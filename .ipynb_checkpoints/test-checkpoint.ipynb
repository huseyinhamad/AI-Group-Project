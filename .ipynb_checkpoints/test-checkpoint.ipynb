{
 "cells": [
  {
   "cell_type": "code",
   "execution_count": 1,
   "id": "1a15df45",
   "metadata": {},
   "outputs": [
    {
     "name": "stdout",
     "output_type": "stream",
     "text": [
      "Collecting git+https://www.github.com/keras-team/keras-contrib.git\n",
      "  Cloning https://www.github.com/keras-team/keras-contrib.git to c:\\users\\husey\\appdata\\local\\temp\\pip-req-build-k0rtr6y2\n",
      "Requirement already satisfied (use --upgrade to upgrade): keras-contrib==2.0.8 from git+https://www.github.com/keras-team/keras-contrib.git in c:\\users\\husey\\anaconda3\\envs\\tf\\lib\\site-packages\n",
      "Requirement already satisfied: keras in c:\\users\\husey\\anaconda3\\envs\\tf\\lib\\site-packages (from keras-contrib==2.0.8) (2.6.0)\n",
      "Building wheels for collected packages: keras-contrib\n",
      "  Building wheel for keras-contrib (setup.py): started\n",
      "  Building wheel for keras-contrib (setup.py): finished with status 'done'\n",
      "  Created wheel for keras-contrib: filename=keras_contrib-2.0.8-py3-none-any.whl size=101669 sha256=d641de04b32a195311ccb5b53687d011e2dfaac74d6efb6f99bac779582b48c3\n",
      "  Stored in directory: C:\\Users\\husey\\AppData\\Local\\Temp\\pip-ephem-wheel-cache-a6tee2oe\\wheels\\67\\d2\\f4\\96ae3c3c62d1e05abfc8860ad0c1207794726d44ebbbb547f3\n",
      "Successfully built keras-contrib\n",
      "Requirement already satisfied: opencv-python in c:\\users\\husey\\anaconda3\\envs\\tf\\lib\\site-packages (4.5.4.58)\n",
      "Requirement already satisfied: numpy>=1.17.3 in c:\\users\\husey\\anaconda3\\envs\\tf\\lib\\site-packages (from opencv-python) (1.21.2)\n"
     ]
    }
   ],
   "source": [
    "%run models.ipynb\n",
    "%run functions.ipynb"
   ]
  },
  {
   "cell_type": "code",
   "execution_count": 2,
   "id": "e77ec95e",
   "metadata": {},
   "outputs": [
    {
     "name": "stdout",
     "output_type": "stream",
     "text": [
      "WARNING:tensorflow:No training configuration found in the save file, so the model was *not* compiled. Compile it manually.\n",
      "WARNING:tensorflow:No training configuration found in the save file, so the model was *not* compiled. Compile it manually.\n"
     ]
    }
   ],
   "source": [
    "generatorModelAtoB = load_model('models/generatorModelAtoB.h5', custom_objects={'InstanceNormalization':keras_contrib.layers.InstanceNormalization})\n",
    "generatorModelBtoA = load_model('models/generatorModelBtoA.h5', custom_objects={'InstanceNormalization':keras_contrib.layers.InstanceNormalization})"
   ]
  },
  {
   "cell_type": "code",
   "execution_count": null,
   "id": "99f4ecb5",
   "metadata": {},
   "outputs": [],
   "source": [
    "image = loadImage('images/testB2/2014-08-03 17_39_45.jpg')\n",
    "generatedImage = generatorModelBtoA.predict(image)"
   ]
  },
  {
   "cell_type": "code",
   "execution_count": null,
   "id": "a3f5ab12",
   "metadata": {},
   "outputs": [],
   "source": [
    "plt.imshow(image[0])\n",
    "plt.axis('off')\n",
    "plt.show()\n",
    "plt.imshow(generatedImage[0])\n",
    "plt.axis('off')\n",
    "plt.show()"
   ]
  },
  {
   "cell_type": "code",
   "execution_count": null,
   "id": "91d587ba",
   "metadata": {},
   "outputs": [],
   "source": []
  }
 ],
 "metadata": {
  "kernelspec": {
   "display_name": "Python 3 (ipykernel)",
   "language": "python",
   "name": "python3"
  },
  "language_info": {
   "codemirror_mode": {
    "name": "ipython",
    "version": 3
   },
   "file_extension": ".py",
   "mimetype": "text/x-python",
   "name": "python",
   "nbconvert_exporter": "python",
   "pygments_lexer": "ipython3",
   "version": "3.8.11"
  }
 },
 "nbformat": 4,
 "nbformat_minor": 5
}
