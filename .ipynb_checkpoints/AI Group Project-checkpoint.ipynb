{
 "cells": [
  {
   "cell_type": "code",
   "execution_count": 4,
   "id": "8bf6436f",
   "metadata": {},
   "outputs": [],
   "source": [
    "import tensorflow as tf\n",
    "from tensorflow.keras.layers import Conv2D, MaxPooling2D, Flatten, Dropout, LeakyReLU\n",
    "from tensorflow.keras.models import Sequential"
   ]
  },
  {
   "cell_type": "code",
   "execution_count": 5,
   "id": "8bef44d4",
   "metadata": {},
   "outputs": [],
   "source": [
    "def discriminatorModel(imageSize):\n",
    "    model = Sequential()\n",
    "    model.add(Conv2D(64, (4, 4), strides=(2,2), input_shape=imageSize))\n",
    "    model.add(LeakyReLU(alpha=0.2))\n",
    "    model.add(MaxPooling2D((2, 2)))\n",
    "    model.add(Conv2D(128, (4, 4), strides=(2,2)))\n",
    "    model.add(LeakyReLU(alpha=0.2))\n",
    "    model.add(MaxPooling2D((2, 2)))\n",
    "    model.add(Conv2D(256, (4, 4), strides=(2,2)))\n",
    "    model.add(LeakyReLU(alpha=0.2))\n",
    "    model.add(MaxPooling2D((2, 2)))\n",
    "    model.add(Conv2D(512, (4, 4), strides=(2,2)))\n",
    "    model.add(LeakyReLU(alpha=0.2))\n",
    "    model.add(MaxPooling2D((2, 2)))\n",
    "    model.add(Dropout(0.5))\n",
    "    model.add(Flatten())\n",
    "    model.add(Conv2D(1, (4,4), kernel_initializer=init))\n",
    "    model.compile(optimizer='adam', loss='mse', metrics=['accuracy'])\n",
    "    model.summary()"
   ]
  }
 ],
 "metadata": {
  "kernelspec": {
   "display_name": "Python 3 (ipykernel)",
   "language": "python",
   "name": "python3"
  },
  "language_info": {
   "codemirror_mode": {
    "name": "ipython",
    "version": 3
   },
   "file_extension": ".py",
   "mimetype": "text/x-python",
   "name": "python",
   "nbconvert_exporter": "python",
   "pygments_lexer": "ipython3",
   "version": "3.8.11"
  }
 },
 "nbformat": 4,
 "nbformat_minor": 5
}
