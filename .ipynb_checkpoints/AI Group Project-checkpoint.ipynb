{
 "cells": [
  {
   "cell_type": "code",
   "execution_count": 73,
   "id": "8bf6436f",
   "metadata": {},
   "outputs": [],
   "source": [
    "import tensorflow as tf\n",
    "import numpy as np\n",
    "from tensorflow.keras.layers import Activation, Conv2D, MaxPooling2D, Flatten, Dropout, LeakyReLU, BatchNormalization, Input, Concatenate, Conv2DTranspose\n",
    "from tensorflow.keras.models import Sequential, Model\n",
    "from tensorflow.keras.initializers import RandomNormal"
   ]
  },
  {
   "cell_type": "code",
   "execution_count": 74,
   "id": "8bef44d4",
   "metadata": {},
   "outputs": [],
   "source": [
    "def discriminatorModel(imageShape):\n",
    "    model = Sequential()\n",
    "    model.add(Conv2D(64, (4, 4), strides=(2,2), padding='same', input_shape=imageShape))\n",
    "    model.add(BatchNormalization())\n",
    "    model.add(LeakyReLU(alpha=0.2))\n",
    "    model.add(Conv2D(128, (4, 4), strides=(2,2), padding='same'))\n",
    "    model.add(BatchNormalization())\n",
    "    model.add(LeakyReLU(alpha=0.2))\n",
    "    model.add(Conv2D(256, (4, 4), strides=(2,2), padding='same'))\n",
    "    model.add(BatchNormalization())\n",
    "    model.add(LeakyReLU(alpha=0.2))\n",
    "    model.add(Conv2D(512, (4, 4), strides=(2,2), padding='same'))\n",
    "    model.add(BatchNormalization())\n",
    "    model.add(LeakyReLU(alpha=0.2))\n",
    "    model.add(Conv2D(512, (4, 4), strides=(1,1), padding='same'))\n",
    "    model.add(BatchNormalization())\n",
    "    model.add(LeakyReLU(alpha=0.2))\n",
    "    model.add(Dropout(0.5))\n",
    "    model.add(Flatten())\n",
    "    model.add(Conv2D(1, (4,4)))\n",
    "    model.compile(optimizer='adam', loss='mse', metrics=['accuracy'])\n",
    "    model.summary()"
   ]
  },
  {
   "cell_type": "code",
   "execution_count": 111,
   "id": "ed8ef7da",
   "metadata": {},
   "outputs": [],
   "source": [
    "def residualBlock(n_filters, input_layer):\n",
    "    init = RandomNormal(stddev=0.02)\n",
    "    model = Sequential()\n",
    "    model.add(Conv2D(n_filters, (3,3), padding='same', activation='relu', kernel_initializer=init))\n",
    "    model.add(BatchNormalization())\n",
    "    model.add(Conv2D(n_filters, (3,3), padding='same', kernel_initializer=init))\n",
    "    model.add(BatchNormalization())\n",
    "    model.add(Concatenate([model, input_layer],))\n",
    "    return model"
   ]
  },
  {
   "cell_type": "code",
   "execution_count": 128,
   "id": "cbca4557",
   "metadata": {},
   "outputs": [],
   "source": [
    "def generatorModel(LImageShape, LResnet=9):\n",
    "    init = RandomNormal(stddev=0.02)\n",
    "    in_image = Input(shape=LImageShape)\n",
    "    \n",
    "    model = Sequential()\n",
    "    model.add(Conv2D(64, (7,7), padding = 'same',  activation='relu', kernel_initializer=init))\n",
    "    model.add(BatchNormalization())\n",
    "    model.add(Conv2D(128, (3,3), strides = (2,2), padding = 'same',  activation='relu', kernel_initializer=init))\n",
    "    model.add(BatchNormalization())\n",
    "    model.add(Conv2D(258, (3,3), strides = (2,2), padding = 'same',  activation='relu', kernel_initializer=init))\n",
    "    model.add(BatchNormalization())\n",
    "    \n",
    "    for _ in range(LResnet):\n",
    "        model.add(residualBlock(256, model))\n",
    "    \n",
    "    model.add(Conv2DTranspose(128, (3,3), strides = (2,2), padding = 'same',  activation='relu', kernel_initializer=init))\n",
    "    model.add(BatchNormalization())\n",
    "    model.add(Conv2DTranspose(64, (3,3), strides = (2,2), padding = 'same',  activation='relu', kernel_initializer=init))\n",
    "    model.add(BatchNormalization())\n",
    "    model.add(Conv2D(3, (7,7), padding='same', kernel_initializer=init))\n",
    "    model.add(BatchNormalization())\n",
    "    \n",
    "    #TO-DO: This part\n",
    "    \n",
    "    #out_image = Activation('tanh')(model)\n",
    "    \n",
    "    # define model\n",
    "    #modelGenerator = Model(in_image, out_image)\n",
    "    return model"
   ]
  },
  {
   "cell_type": "code",
   "execution_count": 129,
   "id": "61900ae5",
   "metadata": {},
   "outputs": [],
   "source": [
    "def define_composite_model(g_model_1, d_model, g_model_2, image_shape):\n",
    "    g_model_1.trainable = True\n",
    "    d_model.trainable = False\n",
    "    g_model_2.trainable = False\n",
    "\n",
    "    \n",
    "    #TO-DO: ?\n",
    "    \n",
    "    input_gen = Input(shape=image_shape)\n",
    "    gen1_out = g_model_1(input_gen)\n",
    "    output_d = d_model(gen1_out)\n",
    "\n",
    "    input_id = Input(shape=image_shape)\n",
    "    output_id = g_model_1(input_id)\n",
    "\n",
    "    output_f = g_model_2(gen1_out)\n",
    "    gen2_out = g_model_2(input_id)\n",
    "    output_b = g_model_1(gen2_out)\n",
    "\n",
    "    model = Model([input_gen, input_id], [output_d, output_id, output_f, output_b])\n",
    "    model.compile(loss=['mse', 'mae', 'mae', 'mae'], loss_weights=[1, 5, 10, 10], optimizer='adam')\n",
    "    return model"
   ]
  },
  {
   "cell_type": "code",
   "execution_count": 130,
   "id": "84f5f28c",
   "metadata": {},
   "outputs": [],
   "source": [
    "def load_real_samples(filename):\n",
    "    data = np.load(filename)\n",
    "    X1, X2 = data['arr_0'], data['arr_1']\n",
    "    X1 = (X1 - 127.5) / 127.5\n",
    "    X2 = (X2 - 127.5) / 127.5\n",
    "    return [X1, X2]"
   ]
  },
  {
   "cell_type": "code",
   "execution_count": 137,
   "id": "58568690",
   "metadata": {},
   "outputs": [],
   "source": [
    "#TO-DO: Upload Images\n",
    "image_shape = (256,256,3,1)\n",
    "g_model_AtoB = generatorModel(image_shape)"
   ]
  },
  {
   "cell_type": "code",
   "execution_count": null,
   "id": "70f3e915",
   "metadata": {},
   "outputs": [],
   "source": []
  },
  {
   "cell_type": "code",
   "execution_count": null,
   "id": "91dd2c6f",
   "metadata": {},
   "outputs": [],
   "source": []
  },
  {
   "cell_type": "code",
   "execution_count": null,
   "id": "e31cb691",
   "metadata": {},
   "outputs": [],
   "source": []
  }
 ],
 "metadata": {
  "kernelspec": {
   "display_name": "Python 3 (ipykernel)",
   "language": "python",
   "name": "python3"
  },
  "language_info": {
   "codemirror_mode": {
    "name": "ipython",
    "version": 3
   },
   "file_extension": ".py",
   "mimetype": "text/x-python",
   "name": "python",
   "nbconvert_exporter": "python",
   "pygments_lexer": "ipython3",
   "version": "3.8.11"
  }
 },
 "nbformat": 4,
 "nbformat_minor": 5
}
